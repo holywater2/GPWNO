{
 "cells": [
  {
   "cell_type": "code",
   "execution_count": 1,
   "metadata": {},
   "outputs": [],
   "source": [
    "import pandas as pd"
   ]
  },
  {
   "cell_type": "code",
   "execution_count": 2,
   "metadata": {},
   "outputs": [],
   "source": [
    "mp_mixed = pd.read_csv('mp_mixed_stat.csv')"
   ]
  },
  {
   "cell_type": "code",
   "execution_count": 4,
   "metadata": {},
   "outputs": [
    {
     "data": {
      "text/plain": [
       "Unnamed: 0    8049.500000\n",
       "a                6.666073\n",
       "b                7.054309\n",
       "c                9.423120\n",
       "avg              7.714501\n",
       "grid_x         102.539627\n",
       "grid_y         108.410683\n",
       "grid_z         144.385093\n",
       "grid           112.512766\n",
       "n_atoms         23.949627\n",
       "dtype: float64"
      ]
     },
     "execution_count": 4,
     "metadata": {},
     "output_type": "execute_result"
    }
   ],
   "source": [
    "mp_mixed.mean()"
   ]
  },
  {
   "cell_type": "code",
   "execution_count": 5,
   "metadata": {},
   "outputs": [
    {
     "data": {
      "text/plain": [
       "Unnamed: 0    16099.000000\n",
       "a                34.830905\n",
       "b                61.125585\n",
       "c               101.386228\n",
       "avg              41.504814\n",
       "grid_x          540.000000\n",
       "grid_y          960.000000\n",
       "grid_z         1512.000000\n",
       "grid            448.000000\n",
       "n_atoms         144.000000\n",
       "dtype: float64"
      ]
     },
     "execution_count": 5,
     "metadata": {},
     "output_type": "execute_result"
    }
   ],
   "source": [
    "mp_mixed.max()"
   ]
  },
  {
   "cell_type": "code",
   "execution_count": 6,
   "metadata": {},
   "outputs": [
    {
     "data": {
      "text/plain": [
       "Unnamed: 0     0.000000\n",
       "a              1.631531\n",
       "b              1.631531\n",
       "c              2.131537\n",
       "avg            2.219620\n",
       "grid_x        24.000000\n",
       "grid_y        24.000000\n",
       "grid_z        32.000000\n",
       "grid          33.510875\n",
       "n_atoms        1.000000\n",
       "dtype: float64"
      ]
     },
     "execution_count": 6,
     "metadata": {},
     "output_type": "execute_result"
    }
   ],
   "source": [
    "mp_mixed.min()"
   ]
  }
 ],
 "metadata": {
  "kernelspec": {
   "display_name": "infGCN",
   "language": "python",
   "name": "python3"
  },
  "language_info": {
   "codemirror_mode": {
    "name": "ipython",
    "version": 3
   },
   "file_extension": ".py",
   "mimetype": "text/x-python",
   "name": "python",
   "nbconvert_exporter": "python",
   "pygments_lexer": "ipython3",
   "version": "3.9.18"
  }
 },
 "nbformat": 4,
 "nbformat_minor": 2
}
