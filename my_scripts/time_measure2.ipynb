{
 "cells": [
  {
   "cell_type": "code",
   "execution_count": 1,
   "metadata": {},
   "outputs": [],
   "source": [
    "%reload_ext autoreload\n",
    "%autoreload 2"
   ]
  },
  {
   "cell_type": "code",
   "execution_count": 2,
   "metadata": {},
   "outputs": [
    {
     "name": "stderr",
     "output_type": "stream",
     "text": [
      "/compuworks/anaconda3/envs/infGCN/lib/python3.9/site-packages/tqdm/auto.py:21: TqdmWarning: IProgress not found. Please update jupyter and ipywidgets. See https://ipywidgets.readthedocs.io/en/stable/user_install.html\n",
      "  from .autonotebook import tqdm as notebook_tqdm\n"
     ]
    }
   ],
   "source": [
    "import pickle\n",
    "import torch\n",
    "import sys\n",
    "import os\n",
    "sys.path.append(\"../\")\n",
    "import time\n"
   ]
  },
  {
   "cell_type": "code",
   "execution_count": 3,
   "metadata": {},
   "outputs": [],
   "source": [
    "# batch_data = pickle.load(open('batch_data_train.pkl', 'rb'))\n",
    "batch_data = pickle.load(open('mp_batch_data_for_unit_test.pkl', 'rb'))\n",
    "g, densities, grid_coord, infos = batch_data\n",
    "batch_data = {\n",
    "    'atom_types': g.x,\n",
    "    'atom_coord': g.pos,\n",
    "    'grid': grid_coord,\n",
    "    'batch': g.batch,\n",
    "    'targets': densities,\n",
    "    'infos': infos\n",
    "}"
   ]
  },
  {
   "cell_type": "code",
   "execution_count": 4,
   "metadata": {},
   "outputs": [
    {
     "name": "stdout",
     "output_type": "stream",
     "text": [
      "0: mp-979413.chgcar\n",
      "1: mp-677095.chgcar\n",
      "2: mp-30510.chgcar\n",
      "3: mp-1219846.chgcar\n",
      "4: mp-974432.chgcar\n",
      "5: mp-1212052.chgcar\n",
      "6: mp-1039794.chgcar\n",
      "7: mp-567499.chgcar\n",
      "8: mp-1047437.chgcar\n",
      "9: mp-972202.chgcar\n",
      "10: mp-622018.chgcar\n",
      "11: mp-1185464.chgcar\n",
      "12: mp-1209644.chgcar\n",
      "13: mp-1038594.chgcar\n",
      "14: mp-1180386.chgcar\n",
      "15: mp-1209820.chgcar\n",
      "16: mp-1414188.chgcar\n",
      "17: mp-5919.chgcar\n",
      "18: mp-1216550.chgcar\n",
      "19: mp-10287.chgcar\n",
      "20: mp-22383.chgcar\n",
      "21: mp-1218815.chgcar\n",
      "22: mp-752420.chgcar\n",
      "23: mp-1186512.chgcar\n",
      "24: mp-1222421.chgcar\n",
      "25: mp-1228343.chgcar\n",
      "26: mp-1226874.chgcar\n",
      "27: mp-1135.chgcar\n",
      "28: mp-1025119.chgcar\n",
      "29: mp-1222993.chgcar\n",
      "30: mp-20737.chgcar\n",
      "31: mp-1188110.chgcar\n"
     ]
    }
   ],
   "source": [
    "for i, info in enumerate(batch_data[\"infos\"]):\n",
    "    print(f\"{i}: {info['file_name']}\")"
   ]
  },
  {
   "cell_type": "code",
   "execution_count": 5,
   "metadata": {},
   "outputs": [],
   "source": [
    "# we will use 12th file, SmIn2Cu9, Site 24, Tetrganoal"
   ]
  },
  {
   "cell_type": "code",
   "execution_count": 6,
   "metadata": {},
   "outputs": [
    {
     "data": {
      "text/plain": [
       "dict_keys(['atom_types', 'atom_coord', 'grid', 'batch', 'targets', 'infos'])"
      ]
     },
     "execution_count": 6,
     "metadata": {},
     "output_type": "execute_result"
    }
   ],
   "source": [
    "batch_data.keys()"
   ]
  },
  {
   "cell_type": "code",
   "execution_count": 7,
   "metadata": {},
   "outputs": [],
   "source": [
    "atom_types = batch_data[\"atom_types\"]\n",
    "atom_coord = batch_data[\"atom_coord\"]\n",
    "grid = batch_data[\"grid\"]\n",
    "batch = batch_data[\"batch\"]\n",
    "infos = batch_data[\"infos\"]\n",
    "targets = batch_data[\"targets\"]"
   ]
  },
  {
   "cell_type": "code",
   "execution_count": 8,
   "metadata": {},
   "outputs": [],
   "source": [
    "# Refine to 12th file\n",
    "idx = 12\n",
    "atom_types = atom_types[batch==idx]\n",
    "atom_coord = atom_coord[batch==idx]\n",
    "infos = [infos[idx]]\n",
    "batch = batch[batch==idx]\n",
    "batch[batch==idx] = 0\n",
    "target = targets[idx].unsqueeze(0)\n",
    "grid = grid[idx].unsqueeze(0)"
   ]
  },
  {
   "cell_type": "code",
   "execution_count": 9,
   "metadata": {},
   "outputs": [],
   "source": [
    "# test_cell = torch.tensor([[1,0,0.1], [0,1,0], [0.1,0,1]], dtype=torch.float32)\n",
    "# test_coord = torch.tensor([[0.25, 0.25, 0.25],[0.5,0.25,0.25]], dtype=torch.float32)\n",
    "# test_batch = torch.tensor([0,0], dtype=torch.int64)\n",
    "# test_type = torch.tensor([1,2], dtype=torch.int64)"
   ]
  },
  {
   "cell_type": "code",
   "execution_count": 10,
   "metadata": {},
   "outputs": [],
   "source": [
    "def make_supercell(atom_types, atom_coord, batch, infos, supercell_idx = [1,1,1]):\n",
    "    cell = infos[0][\"cell\"]\n",
    "    supercell_idx = torch.tensor(supercell_idx)\n",
    "    supercell = torch.einsum(\"i,ij->ij\", supercell_idx.float().to(cell.device),cell)\n",
    "    super_coords = []\n",
    "    super_types = []\n",
    "    for i in range(supercell_idx[0]):\n",
    "        for j in range(supercell_idx[1]):\n",
    "            for k in range(supercell_idx[2]):\n",
    "                super_coords.append(atom_coord + i*cell[0] + j*cell[1] + k*cell[2])\n",
    "                super_types.append(atom_types)\n",
    "    \n",
    "    super_types = torch.cat(super_types, dim=0).to(atom_types.device)\n",
    "    super_coords = torch.cat(super_coords, dim=0).to(atom_coord.device)\n",
    "    super_batch = torch.zeros_like(super_types).to(atom_types.device)\n",
    "    super_infos = infos[0].copy()\n",
    "    super_infos[\"cell\"] = supercell\n",
    "    print(\"number of atoms\",len(super_types))\n",
    "    print(\"original cell\\n\", cell)\n",
    "    print(\"supercell\\n\", supercell)\n",
    "    print(\"supercell_idx\\n\", supercell_idx)\n",
    "    return super_types, super_coords, super_batch, [super_infos]"
   ]
  },
  {
   "cell_type": "code",
   "execution_count": 11,
   "metadata": {},
   "outputs": [],
   "source": [
    "from source.models.GPWNO_test import GPWNO\n",
    "from source.baseline.infgcn import InfGCN"
   ]
  },
  {
   "cell_type": "code",
   "execution_count": 4,
   "metadata": {},
   "outputs": [
    {
     "ename": "NameError",
     "evalue": "name 'GPWNO' is not defined",
     "output_type": "error",
     "traceback": [
      "\u001b[0;31m---------------------------------------------------------------------------\u001b[0m",
      "\u001b[0;31mNameError\u001b[0m                                 Traceback (most recent call last)",
      "Cell \u001b[0;32mIn[4], line 1\u001b[0m\n\u001b[0;32m----> 1\u001b[0m GPWNO_qm9 \u001b[38;5;241m=\u001b[39m \u001b[43mGPWNO\u001b[49m(\n\u001b[1;32m      2\u001b[0m     n_atom_type\u001b[38;5;241m=\u001b[39m\u001b[38;5;241m5\u001b[39m,\n\u001b[1;32m      3\u001b[0m     num_radial\u001b[38;5;241m=\u001b[39m\u001b[38;5;241m16\u001b[39m,\n\u001b[1;32m      4\u001b[0m     num_spherical\u001b[38;5;241m=\u001b[39m\u001b[38;5;241m4\u001b[39m,\n\u001b[1;32m      5\u001b[0m     radial_embed_size\u001b[38;5;241m=\u001b[39m\u001b[38;5;241m64\u001b[39m,\n\u001b[1;32m      6\u001b[0m     radial_hidden_size\u001b[38;5;241m=\u001b[39m\u001b[38;5;241m128\u001b[39m,\n\u001b[1;32m      7\u001b[0m     num_radial_layer\u001b[38;5;241m=\u001b[39m\u001b[38;5;241m2\u001b[39m,\n\u001b[1;32m      8\u001b[0m     num_gcn_layer\u001b[38;5;241m=\u001b[39m\u001b[38;5;241m2\u001b[39m,\n\u001b[1;32m      9\u001b[0m     cutoff\u001b[38;5;241m=\u001b[39m\u001b[38;5;241m3.0\u001b[39m,\n\u001b[1;32m     10\u001b[0m     is_fc\u001b[38;5;241m=\u001b[39m\u001b[38;5;28;01mFalse\u001b[39;00m,\n\u001b[1;32m     11\u001b[0m     gauss_start\u001b[38;5;241m=\u001b[39m\u001b[38;5;241m0.5\u001b[39m,\n\u001b[1;32m     12\u001b[0m     gauss_end\u001b[38;5;241m=\u001b[39m\u001b[38;5;241m5.\u001b[39m,\n\u001b[1;32m     13\u001b[0m     residual\u001b[38;5;241m=\u001b[39m\u001b[38;5;28;01mTrue\u001b[39;00m,\n\u001b[1;32m     14\u001b[0m     pbc\u001b[38;5;241m=\u001b[39m\u001b[38;5;28;01mFalse\u001b[39;00m,\n\u001b[1;32m     15\u001b[0m     activation\u001b[38;5;241m=\u001b[39m\u001b[38;5;124m\"\u001b[39m\u001b[38;5;124mnorm\u001b[39m\u001b[38;5;124m\"\u001b[39m,\n\u001b[1;32m     16\u001b[0m     num_fourier\u001b[38;5;241m=\u001b[39m\u001b[38;5;241m40\u001b[39m,\n\u001b[1;32m     17\u001b[0m     num_fourier_time\u001b[38;5;241m=\u001b[39m\u001b[38;5;241m12\u001b[39m,\n\u001b[1;32m     18\u001b[0m     width\u001b[38;5;241m=\u001b[39m\u001b[38;5;241m16\u001b[39m,\n\u001b[1;32m     19\u001b[0m     fourier_mode\u001b[38;5;241m=\u001b[39m\u001b[38;5;241m0\u001b[39m,\n\u001b[1;32m     20\u001b[0m     padding\u001b[38;5;241m=\u001b[39m\u001b[38;5;241m4\u001b[39m,\n\u001b[1;32m     21\u001b[0m     use_max_cell\u001b[38;5;241m=\u001b[39m\u001b[38;5;28;01mTrue\u001b[39;00m,\n\u001b[1;32m     22\u001b[0m     equivariant_frame\u001b[38;5;241m=\u001b[39m\u001b[38;5;28;01mTrue\u001b[39;00m,\n\u001b[1;32m     23\u001b[0m     probe_cutoff\u001b[38;5;241m=\u001b[39m\u001b[38;5;241m1.5\u001b[39m,\n\u001b[1;32m     24\u001b[0m     grid_cutoff\u001b[38;5;241m=\u001b[39m\u001b[38;5;241m0.75\u001b[39m,\n\u001b[1;32m     25\u001b[0m     normalize\u001b[38;5;241m=\u001b[39m\u001b[38;5;28;01mTrue\u001b[39;00m,\n\u001b[1;32m     26\u001b[0m     using_ff\u001b[38;5;241m=\u001b[39m\u001b[38;5;28;01mTrue\u001b[39;00m,\n\u001b[1;32m     27\u001b[0m     model_sharing\u001b[38;5;241m=\u001b[39m\u001b[38;5;28;01mFalse\u001b[39;00m,\n\u001b[1;32m     28\u001b[0m     num_infgcn_layer\u001b[38;5;241m=\u001b[39m\u001b[38;5;241m3\u001b[39m,\n\u001b[1;32m     29\u001b[0m     use_detach\u001b[38;5;241m=\u001b[39m\u001b[38;5;28;01mFalse\u001b[39;00m,\n\u001b[1;32m     30\u001b[0m     num_spherical_RNO\u001b[38;5;241m=\u001b[39m\u001b[38;5;241m4\u001b[39m,\n\u001b[1;32m     31\u001b[0m     scalar_mask\u001b[38;5;241m=\u001b[39m\u001b[38;5;28;01mTrue\u001b[39;00m,\n\u001b[1;32m     32\u001b[0m     mask_cutoff\u001b[38;5;241m=\u001b[39m\u001b[38;5;241m3.0\u001b[39m,\n\u001b[1;32m     33\u001b[0m     input_infgcn\u001b[38;5;241m=\u001b[39m\u001b[38;5;28;01mFalse\u001b[39;00m,\n\u001b[1;32m     34\u001b[0m     output_positive\u001b[38;5;241m=\u001b[39m\u001b[38;5;28;01mFalse\u001b[39;00m,\n\u001b[1;32m     35\u001b[0m     atom_info\u001b[38;5;241m=\u001b[39m\u001b[38;5;124m\"\u001b[39m\u001b[38;5;124m/home/holywater2/crystal/GPWNO/atom_info/qm9_atom_info.json\u001b[39m\u001b[38;5;124m\"\u001b[39m,\n\u001b[1;32m     36\u001b[0m     input_dist\u001b[38;5;241m=\u001b[39m\u001b[38;5;28;01mFalse\u001b[39;00m,\n\u001b[1;32m     37\u001b[0m     atomic_gauss_dist\u001b[38;5;241m=\u001b[39m\u001b[38;5;28;01mFalse\u001b[39;00m\n\u001b[1;32m     38\u001b[0m )\u001b[38;5;241m.\u001b[39mcuda()\n",
      "\u001b[0;31mNameError\u001b[0m: name 'GPWNO' is not defined"
     ]
    }
   ],
   "source": [
    "GPWNO_qm9 = GPWNO(\n",
    "    n_atom_type=5,\n",
    "    num_radial=16,\n",
    "    num_spherical=4,\n",
    "    radial_embed_size=64,\n",
    "    radial_hidden_size=128,\n",
    "    num_radial_layer=2,\n",
    "    num_gcn_layer=2,\n",
    "    cutoff=3.0,\n",
    "    is_fc=False,\n",
    "    gauss_start=0.5,\n",
    "    gauss_end=5.,\n",
    "    residual=True,\n",
    "    pbc=False,\n",
    "    activation=\"norm\",\n",
    "    num_fourier=40,\n",
    "    num_fourier_time=12,\n",
    "    width=16,\n",
    "    fourier_mode=0,\n",
    "    padding=4,\n",
    "    use_max_cell=True,\n",
    "    equivariant_frame=True,\n",
    "    probe_cutoff=1.5,\n",
    "    grid_cutoff=0.75,\n",
    "    normalize=True,\n",
    "    using_ff=True,\n",
    "    model_sharing=False,\n",
    "    num_infgcn_layer=3,\n",
    "    use_detach=False,\n",
    "    num_spherical_RNO=4,\n",
    "    scalar_mask=True,\n",
    "    mask_cutoff=3.0,\n",
    "    input_infgcn=False,\n",
    "    output_positive=False,\n",
    "    atom_info=\"/home/holywater2/crystal/GPWNO/atom_info/qm9_atom_info.json\",\n",
    "    input_dist=False,\n",
    "    atomic_gauss_dist=False\n",
    ").cuda()"
   ]
  },
  {
   "cell_type": "code",
   "execution_count": 13,
   "metadata": {},
   "outputs": [],
   "source": [
    "# model2 = InfGCN(\n",
    "#     n_atom_type=85,\n",
    "#     num_radial=16,\n",
    "#     num_spherical=7,\n",
    "#     radial_embed_size=64,\n",
    "#     radial_hidden_size=128,\n",
    "#     num_radial_layer=2,\n",
    "#     num_gcn_layer=3,\n",
    "#     cutoff=5.0,\n",
    "#     is_fc=False,\n",
    "#     gauss_start=0.5,\n",
    "#     gauss_end=5.,\n",
    "#     residual=False,\n",
    "#     pbc=True,\n",
    "#     activation=\"norm\",    \n",
    "# ).cuda()"
   ]
  },
  {
   "cell_type": "code",
   "execution_count": 14,
   "metadata": {},
   "outputs": [],
   "source": [
    "# model3 = InfGCN(\n",
    "#     n_atom_type=85,\n",
    "#     num_radial=16,\n",
    "#     num_spherical=3,\n",
    "#     radial_embed_size=64,\n",
    "#     radial_hidden_size=128,\n",
    "#     num_radial_layer=2,\n",
    "#     num_gcn_layer=3,\n",
    "#     cutoff=5.0,\n",
    "#     is_fc=False,\n",
    "#     gauss_start=0.5,\n",
    "#     gauss_end=5.,\n",
    "#     residual=False,\n",
    "#     pbc=True,\n",
    "#     activation=\"norm\",    \n",
    "# ).cuda()"
   ]
  },
  {
   "cell_type": "code",
   "execution_count": 15,
   "metadata": {},
   "outputs": [],
   "source": [
    "def time_stats(model, atom_types, atom_coord, grid, batch,infos, supercell_idx =[1,1,1],num_iter=100,model_type=\"GPWNO\"):\n",
    "    at, ac, b, ifs = make_supercell(atom_types, atom_coord, batch, infos, supercell_idx)\n",
    "    g = grid\n",
    "    t = 0\n",
    "    probe_degree = 0\n",
    "    start_time = time.time()\n",
    "    with torch.no_grad():\n",
    "        for i in range(num_iter):\n",
    "            dd = model.forward(at, ac, g, b, ifs)\n",
    "            if type == \"GPWNO\":\n",
    "                t += dd[\"time\"]\n",
    "            \n",
    "    end_time = time.time()\n",
    "    runtime = end_time - start_time\n",
    "    print(\"total runtime     :\",runtime, runtime/num_iter)\n",
    "    if model_type == \"GPWNO\":\n",
    "        print(\"runtime w/o radius:\",runtime - t, (runtime - t)/num_iter)\n",
    "        print(\"probe degree      :\",dd[\"avg_probe_degree\"])\n",
    "        print(\"sample degree     :\",dd[\"avg_sample_degree\"])\n",
    "        print(\"probe exist rate  :\",dd[\"avg_probe_exist_rate\"])\n",
    "        print(\"probe exist degr  :\",dd[\"avg_probe_exist_degree\"])\n",
    "    del at, ac, b, ifs, dd"
   ]
  },
  {
   "cell_type": "code",
   "execution_count": 16,
   "metadata": {},
   "outputs": [],
   "source": [
    "from torch_geometric.data.batch import DataBatch\n",
    "\n",
    "def time_stats_train(model, atom_types, atom_coord, grid, batch,infos, target, supercell_idx =[1,1,1],num_iter=100,model_type=\"GPWNO\"):\n",
    "    print(\"mode: train\")\n",
    "    at, ac, b, ifs = make_supercell(atom_types, atom_coord, batch, infos, supercell_idx)\n",
    "    g = grid\n",
    "    t = 0\n",
    "    probe_degree = 0\n",
    "    databatch = DataBatch(x=at, pos=ac, batch=b)\n",
    "    # print(databatch)\n",
    "    start_time = time.time()\n",
    "    for i in range(num_iter):\n",
    "        dd = model.training_step([databatch,target,g,ifs],0)\n",
    "        if type == \"GPWNO\":\n",
    "            t += dd[\"time\"]\n",
    "            \n",
    "    end_time = time.time()\n",
    "    runtime = end_time - start_time\n",
    "    print(\"total runtime     :\",runtime, runtime/num_iter)\n",
    "    del at, ac, b, ifs, dd\n",
    "    return len(atom_types), runtime"
   ]
  },
  {
   "cell_type": "code",
   "execution_count": 17,
   "metadata": {},
   "outputs": [
    {
     "name": "stdout",
     "output_type": "stream",
     "text": [
      "mode: train\n",
      "number of atoms 24\n",
      "original cell\n",
      " tensor([[0.0000, 0.0000, 5.0236],\n",
      "        [8.4651, 0.0000, 0.0000],\n",
      "        [0.0000, 8.4651, 0.0000]], device='cuda:0')\n",
      "supercell\n",
      " tensor([[0.0000, 0.0000, 5.0236],\n",
      "        [8.4651, 0.0000, 0.0000],\n",
      "        [0.0000, 8.4651, 0.0000]], device='cuda:0')\n",
      "supercell_idx\n",
      " tensor([1, 1, 1])\n"
     ]
    },
    {
     "name": "stderr",
     "output_type": "stream",
     "text": [
      "/compuworks/anaconda3/envs/infGCN/lib/python3.9/site-packages/torch/functional.py:504: UserWarning: torch.meshgrid: in an upcoming release, it will be required to pass the indexing argument. (Triggered internally at ../aten/src/ATen/native/TensorShape.cpp:3190.)\n",
      "  return _VF.meshgrid(tensors, **kwargs)  # type: ignore[attr-defined]\n"
     ]
    },
    {
     "name": "stdout",
     "output_type": "stream",
     "text": [
      "total runtime     : 9.758800029754639 9.758800029754639\n"
     ]
    },
    {
     "name": "stderr",
     "output_type": "stream",
     "text": [
      "/compuworks/anaconda3/envs/infGCN/lib/python3.9/site-packages/pytorch_lightning/core/module.py:420: You are trying to `self.log()` but the `self.trainer` reference is not registered on the model yet. This is most likely because the model hasn't been passed to the `Trainer`\n"
     ]
    },
    {
     "data": {
      "text/plain": [
       "(24, 9.758800029754639)"
      ]
     },
     "execution_count": 17,
     "metadata": {},
     "output_type": "execute_result"
    }
   ],
   "source": [
    "time_stats_train(model1, atom_types, atom_coord, grid, batch, infos, target, supercell_idx = [1,1,1],num_iter=1)"
   ]
  }
 ],
 "metadata": {
  "kernelspec": {
   "display_name": "infGCN",
   "language": "python",
   "name": "python3"
  },
  "language_info": {
   "codemirror_mode": {
    "name": "ipython",
    "version": 3
   },
   "file_extension": ".py",
   "mimetype": "text/x-python",
   "name": "python",
   "nbconvert_exporter": "python",
   "pygments_lexer": "ipython3",
   "version": "3.9.18"
  }
 },
 "nbformat": 4,
 "nbformat_minor": 2
}
