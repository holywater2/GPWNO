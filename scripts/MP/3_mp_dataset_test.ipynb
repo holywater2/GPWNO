{
 "cells": [
  {
   "cell_type": "code",
   "execution_count": 1,
   "metadata": {},
   "outputs": [],
   "source": [
    "import pandas as pd\n",
    "import numpy as np\n",
    "import pandarallel as pdl"
   ]
  },
  {
   "cell_type": "code",
   "execution_count": 2,
   "metadata": {},
   "outputs": [],
   "source": [
    "# https://pymatgen.org/pymatgen.io.vasp.html\n",
    "\n",
    "from pymatgen.io.vasp.outputs import Chgcar as chg\n",
    "from pymatgen.symmetry.analyzer import SpacegroupAnalyzer"
   ]
  },
  {
   "cell_type": "code",
   "execution_count": 3,
   "metadata": {},
   "outputs": [
    {
     "name": "stdout",
     "output_type": "stream",
     "text": [
      "Len mpids: 16100\n"
     ]
    }
   ],
   "source": [
    "from mp_api.client import MPRester\n",
    "from emmet.core.summary import HasProps\n",
    "import json\n",
    "from tqdm import tqdm\n",
    "import os\n",
    "\n",
    "\n",
    "my_api_key = \"pdDir9sfmf4JPMKDSJzF8W7ZJ7CyqYHE\"\n",
    "# file_path = \"../mpids_downloaded.json\"\n",
    "file_path = \"../mpids_new.json\"\n",
    "\n",
    "with open(file_path, 'r') as file:\n",
    "    mpids = json.load(file)\n",
    "\n",
    "chgcar_path = \"../mixed_data\"\n",
    "saved_files = os.listdir(chgcar_path)\n",
    "saved_files_wo_ext = []\n",
    "for i in saved_files:\n",
    "    saved_files_wo_ext.append(i.split(\".\")[0])\n",
    "\n",
    "mpids = saved_files_wo_ext\n",
    "\n",
    "print(\"Len mpids:\",len(mpids))"
   ]
  },
  {
   "cell_type": "code",
   "execution_count": 4,
   "metadata": {},
   "outputs": [
    {
     "name": "stdout",
     "output_type": "stream",
     "text": [
      "INFO: Pandarallel will run on 32 workers.\n",
      "INFO: Pandarallel will use Memory file system to transfer data between the main process and workers.\n"
     ]
    }
   ],
   "source": [
    "import pandas as pd\n",
    "from tqdm import tqdm\n",
    "tqdm.pandas()\n",
    "from pandarallel import pandarallel\n",
    "pandarallel.initialize(progress_bar=True, nb_workers=32)"
   ]
  },
  {
   "cell_type": "code",
   "execution_count": 5,
   "metadata": {},
   "outputs": [],
   "source": [
    "mpids_pd = pd.Series(mpids)\n",
    "\n",
    "def get_stat(mpid):\n",
    "    try:\n",
    "        file_path = \"../mixed_data/\"+mpid+\".chgcar\"\n",
    "        chgcar = chg.from_file(file_path)\n",
    "        struc = chgcar.structure\n",
    "        a,b,c = struc.lattice.abc\n",
    "        grid_x,grid_y,grid_z = chgcar.dim\n",
    "        n_atoms = struc.num_sites\n",
    "    except:\n",
    "        a,b,c = np.nan,np.nan,np.nan\n",
    "        grid_x,grid_y,grid_z = np.nan,np.nan,np.nan\n",
    "        n_atoms = np.nan\n",
    "\n",
    "    return pd.Series([a,b,c,(a+b+c)/3,grid_x,grid_y,grid_z,(grid_x*grid_y*grid_z)**(1/3), n_atoms],\n",
    "                     index=[\"a\",\"b\",\"c\",\"avg\",\"grid_x\",\"grid_y\",\"grid_z\",\"grid\",\"n_atoms\"]\n",
    "                     )"
   ]
  },
  {
   "cell_type": "code",
   "execution_count": 6,
   "metadata": {},
   "outputs": [
    {
     "data": {
      "application/vnd.jupyter.widget-view+json": {
       "model_id": "2c6a7ba8c7994b0cbe3ed58ed33bf0ee",
       "version_major": 2,
       "version_minor": 0
      },
      "text/plain": [
       "VBox(children=(HBox(children=(IntProgress(value=0, description='0.00%', max=504), Label(value='0 / 504'))), HB…"
      ]
     },
     "metadata": {},
     "output_type": "display_data"
    }
   ],
   "source": [
    "mpids_stat = mpids_pd.parallel_apply(get_stat)"
   ]
  },
  {
   "cell_type": "code",
   "execution_count": 1,
   "metadata": {},
   "outputs": [
    {
     "ename": "NameError",
     "evalue": "name 'mpids_stat' is not defined",
     "output_type": "error",
     "traceback": [
      "\u001b[0;31m---------------------------------------------------------------------------\u001b[0m",
      "\u001b[0;31mNameError\u001b[0m                                 Traceback (most recent call last)",
      "Cell \u001b[0;32mIn[1], line 1\u001b[0m\n\u001b[0;32m----> 1\u001b[0m \u001b[43mmpids_stat\u001b[49m\n",
      "\u001b[0;31mNameError\u001b[0m: name 'mpids_stat' is not defined"
     ]
    }
   ],
   "source": [
    "mpids_stat.to_csv(\"mpids_stat.csv\")"
   ]
  },
  {
   "cell_type": "code",
   "execution_count": null,
   "metadata": {},
   "outputs": [],
   "source": [
    "df.apply(lambda x: pd.Series([1, 2], index=['foo', 'bar']), axis=1)"
   ]
  },
  {
   "cell_type": "code",
   "execution_count": 25,
   "metadata": {},
   "outputs": [
    {
     "data": {
      "text/plain": [
       "(80, 108, 112)"
      ]
     },
     "execution_count": 25,
     "metadata": {},
     "output_type": "execute_result"
    }
   ],
   "source": [
    "chgcar.data[\"total\"].shape"
   ]
  },
  {
   "cell_type": "code",
   "execution_count": 37,
   "metadata": {},
   "outputs": [
    {
     "data": {
      "text/plain": [
       "['REDIRECT',\n",
       " '__class__',\n",
       " '__delattr__',\n",
       " '__dict__',\n",
       " '__dir__',\n",
       " '__doc__',\n",
       " '__eq__',\n",
       " '__format__',\n",
       " '__ge__',\n",
       " '__get_pydantic_core_schema__',\n",
       " '__get_pydantic_json_schema__',\n",
       " '__get_validators__',\n",
       " '__getattribute__',\n",
       " '__gt__',\n",
       " '__hash__',\n",
       " '__init__',\n",
       " '__init_subclass__',\n",
       " '__le__',\n",
       " '__lt__',\n",
       " '__modify_schema__',\n",
       " '__module__',\n",
       " '__ne__',\n",
       " '__new__',\n",
       " '__reduce__',\n",
       " '__reduce_ex__',\n",
       " '__repr__',\n",
       " '__setattr__',\n",
       " '__sizeof__',\n",
       " '__str__',\n",
       " '__subclasshook__',\n",
       " '__weakref__',\n",
       " '_calculate_lll',\n",
       " '_diags',\n",
       " '_generic_json_schema',\n",
       " '_inv_matrix',\n",
       " '_lll_inverse',\n",
       " '_lll_matrix_mappings',\n",
       " '_matrix',\n",
       " '_pbc',\n",
       " '_validate_monty',\n",
       " 'a',\n",
       " 'abc',\n",
       " 'alpha',\n",
       " 'angles',\n",
       " 'as_dict',\n",
       " 'b',\n",
       " 'beta',\n",
       " 'c',\n",
       " 'copy',\n",
       " 'cubic',\n",
       " 'd_hkl',\n",
       " 'dot',\n",
       " 'find_all_mappings',\n",
       " 'find_mapping',\n",
       " 'from_dict',\n",
       " 'from_parameters',\n",
       " 'gamma',\n",
       " 'get_all_distances',\n",
       " 'get_brillouin_zone',\n",
       " 'get_cartesian_coords',\n",
       " 'get_distance_and_image',\n",
       " 'get_frac_coords_from_lll',\n",
       " 'get_fractional_coords',\n",
       " 'get_lll_frac_coords',\n",
       " 'get_lll_reduced_lattice',\n",
       " 'get_miller_index_from_coords',\n",
       " 'get_niggli_reduced_lattice',\n",
       " 'get_points_in_sphere',\n",
       " 'get_points_in_sphere_old',\n",
       " 'get_points_in_sphere_py',\n",
       " 'get_recp_symmetry_operation',\n",
       " 'get_vector_along_lattice_directions',\n",
       " 'get_wigner_seitz_cell',\n",
       " 'hexagonal',\n",
       " 'inv_matrix',\n",
       " 'is_3d_periodic',\n",
       " 'is_hexagonal',\n",
       " 'is_orthogonal',\n",
       " 'lengths',\n",
       " 'lll_inverse',\n",
       " 'lll_mapping',\n",
       " 'lll_matrix',\n",
       " 'matrix',\n",
       " 'metric_tensor',\n",
       " 'monoclinic',\n",
       " 'norm',\n",
       " 'orthorhombic',\n",
       " 'parameters',\n",
       " 'pbc',\n",
       " 'reciprocal_lattice',\n",
       " 'reciprocal_lattice_crystallographic',\n",
       " 'rhombohedral',\n",
       " 'scale',\n",
       " 'selling_dist',\n",
       " 'selling_vector',\n",
       " 'tetragonal',\n",
       " 'to_json',\n",
       " 'unsafe_hash',\n",
       " 'validate_monty_v1',\n",
       " 'validate_monty_v2',\n",
       " 'volume']"
      ]
     },
     "execution_count": 37,
     "metadata": {},
     "output_type": "execute_result"
    }
   ],
   "source": [
    "dir(chgcar.structure.lattice)"
   ]
  },
  {
   "cell_type": "code",
   "execution_count": 42,
   "metadata": {},
   "outputs": [
    {
     "data": {
      "text/plain": [
       "(5.130117, 6.817619831645058, 7.352613036399236)"
      ]
     },
     "execution_count": 42,
     "metadata": {},
     "output_type": "execute_result"
    }
   ],
   "source": [
    "chgcar.structure.lattice.abc"
   ]
  },
  {
   "cell_type": "code",
   "execution_count": 8,
   "metadata": {},
   "outputs": [
    {
     "name": "stderr",
     "output_type": "stream",
     "text": [
      "  0%|          | 33/117535 [01:10<69:21:35,  2.13s/it]\n"
     ]
    },
    {
     "ename": "KeyboardInterrupt",
     "evalue": "",
     "output_type": "error",
     "traceback": [
      "\u001b[0;31m---------------------------------------------------------------------------\u001b[0m",
      "\u001b[0;31mKeyboardInterrupt\u001b[0m                         Traceback (most recent call last)",
      "Cell \u001b[0;32mIn[8], line 3\u001b[0m\n\u001b[1;32m      1\u001b[0m \u001b[38;5;28;01mfor\u001b[39;00m mpid \u001b[38;5;129;01min\u001b[39;00m tqdm(mpids):\n\u001b[1;32m      2\u001b[0m     file_path \u001b[38;5;241m=\u001b[39m \u001b[38;5;124m\"\u001b[39m\u001b[38;5;124m../data/\u001b[39m\u001b[38;5;124m\"\u001b[39m\u001b[38;5;241m+\u001b[39mmpid\u001b[38;5;241m+\u001b[39m\u001b[38;5;124m\"\u001b[39m\u001b[38;5;124m.chgcar\u001b[39m\u001b[38;5;124m\"\u001b[39m\n\u001b[0;32m----> 3\u001b[0m     chgcar \u001b[38;5;241m=\u001b[39m \u001b[43mchg\u001b[49m\u001b[38;5;241;43m.\u001b[39;49m\u001b[43mfrom_file\u001b[49m\u001b[43m(\u001b[49m\u001b[43mfile_path\u001b[49m\u001b[43m)\u001b[49m\n\u001b[1;32m      4\u001b[0m     \u001b[38;5;66;03m# lattice_type = SpacegroupAnalyzer(chgcar.structure).get_lattice_type()\u001b[39;00m\n\u001b[1;32m      5\u001b[0m     \u001b[38;5;66;03m# lattice_types_dict[mpid] = lattice_type\u001b[39;00m\n",
      "File \u001b[0;32m~/.local/lib/python3.8/site-packages/pymatgen/io/vasp/outputs.py:3652\u001b[0m, in \u001b[0;36mChgcar.from_file\u001b[0;34m(filename)\u001b[0m\n\u001b[1;32m   3644\u001b[0m \u001b[38;5;129m@staticmethod\u001b[39m\n\u001b[1;32m   3645\u001b[0m \u001b[38;5;28;01mdef\u001b[39;00m \u001b[38;5;21mfrom_file\u001b[39m(filename: \u001b[38;5;28mstr\u001b[39m):\n\u001b[1;32m   3646\u001b[0m \u001b[38;5;250m    \u001b[39m\u001b[38;5;124;03m\"\"\"\u001b[39;00m\n\u001b[1;32m   3647\u001b[0m \u001b[38;5;124;03m    Read a CHGCAR file.\u001b[39;00m\n\u001b[1;32m   3648\u001b[0m \n\u001b[1;32m   3649\u001b[0m \u001b[38;5;124;03m    :param filename: Filename\u001b[39;00m\n\u001b[1;32m   3650\u001b[0m \u001b[38;5;124;03m    :return: Chgcar\u001b[39;00m\n\u001b[1;32m   3651\u001b[0m \u001b[38;5;124;03m    \"\"\"\u001b[39;00m\n\u001b[0;32m-> 3652\u001b[0m     poscar, data, data_aug \u001b[38;5;241m=\u001b[39m \u001b[43mVolumetricData\u001b[49m\u001b[38;5;241;43m.\u001b[39;49m\u001b[43mparse_file\u001b[49m\u001b[43m(\u001b[49m\u001b[43mfilename\u001b[49m\u001b[43m)\u001b[49m\n\u001b[1;32m   3653\u001b[0m     \u001b[38;5;28;01mreturn\u001b[39;00m Chgcar(poscar, data, data_aug\u001b[38;5;241m=\u001b[39mdata_aug)\n",
      "File \u001b[0;32m~/.local/lib/python3.8/site-packages/pymatgen/io/vasp/outputs.py:3458\u001b[0m, in \u001b[0;36mVolumetricData.parse_file\u001b[0;34m(filename)\u001b[0m\n\u001b[1;32m   3453\u001b[0m     \u001b[38;5;28;01mif\u001b[39;00m data_count \u001b[38;5;241m<\u001b[39m ngrid_pts:\n\u001b[1;32m   3454\u001b[0m         \u001b[38;5;66;03m# This complicated procedure is necessary because\u001b[39;00m\n\u001b[1;32m   3455\u001b[0m         \u001b[38;5;66;03m# vasp outputs x as the fastest index, followed by y\u001b[39;00m\n\u001b[1;32m   3456\u001b[0m         \u001b[38;5;66;03m# then z.\u001b[39;00m\n\u001b[1;32m   3457\u001b[0m         no_x \u001b[38;5;241m=\u001b[39m data_count \u001b[38;5;241m/\u001b[39m\u001b[38;5;241m/\u001b[39m dim[\u001b[38;5;241m0\u001b[39m]\n\u001b[0;32m-> 3458\u001b[0m         \u001b[43mdataset\u001b[49m\u001b[43m[\u001b[49m\u001b[43mdata_count\u001b[49m\u001b[43m \u001b[49m\u001b[38;5;241;43m%\u001b[39;49m\u001b[43m \u001b[49m\u001b[43mdim\u001b[49m\u001b[43m[\u001b[49m\u001b[38;5;241;43m0\u001b[39;49m\u001b[43m]\u001b[49m\u001b[43m,\u001b[49m\u001b[43m \u001b[49m\u001b[43mno_x\u001b[49m\u001b[43m \u001b[49m\u001b[38;5;241;43m%\u001b[39;49m\u001b[43m \u001b[49m\u001b[43mdim\u001b[49m\u001b[43m[\u001b[49m\u001b[38;5;241;43m1\u001b[39;49m\u001b[43m]\u001b[49m\u001b[43m,\u001b[49m\u001b[43m \u001b[49m\u001b[43mno_x\u001b[49m\u001b[43m \u001b[49m\u001b[38;5;241;43m/\u001b[39;49m\u001b[38;5;241;43m/\u001b[39;49m\u001b[43m \u001b[49m\u001b[43mdim\u001b[49m\u001b[43m[\u001b[49m\u001b[38;5;241;43m1\u001b[39;49m\u001b[43m]\u001b[49m\u001b[43m]\u001b[49m \u001b[38;5;241m=\u001b[39m \u001b[38;5;28mfloat\u001b[39m(tok)\n\u001b[1;32m   3459\u001b[0m         data_count \u001b[38;5;241m+\u001b[39m\u001b[38;5;241m=\u001b[39m \u001b[38;5;241m1\u001b[39m\n\u001b[1;32m   3460\u001b[0m \u001b[38;5;28;01mif\u001b[39;00m data_count \u001b[38;5;241m>\u001b[39m\u001b[38;5;241m=\u001b[39m ngrid_pts:\n",
      "\u001b[0;31mKeyboardInterrupt\u001b[0m: "
     ]
    }
   ],
   "source": [
    "for mpid in tqdm(mpids):\n",
    "    file_path = \"../data/\"+mpid+\".chgcar\"\n",
    "    chgcar = chg.from_file(file_path)\n",
    "    # lattice_type = SpacegroupAnalyzer(chgcar.structure).get_lattice_type()\n",
    "    # lattice_types_dict[mpid] = lattice_type"
   ]
  }
 ],
 "metadata": {
  "kernelspec": {
   "display_name": "Python 3",
   "language": "python",
   "name": "python3"
  },
  "language_info": {
   "codemirror_mode": {
    "name": "ipython",
    "version": 3
   },
   "file_extension": ".py",
   "mimetype": "text/x-python",
   "name": "python",
   "nbconvert_exporter": "python",
   "pygments_lexer": "ipython3",
   "version": "3.8.10"
  }
 },
 "nbformat": 4,
 "nbformat_minor": 2
}
