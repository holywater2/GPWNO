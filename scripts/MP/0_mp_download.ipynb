{
 "cells": [
  {
   "cell_type": "code",
   "execution_count": 1,
   "metadata": {},
   "outputs": [
    {
     "name": "stdout",
     "output_type": "stream",
     "text": [
      "Downloading MP dataset...\n"
     ]
    }
   ],
   "source": [
    "from mp_api.client import MPRester\n",
    "from emmet.core.summary import HasProps\n",
    "import json\n",
    "from tqdm import tqdm\n",
    "import os\n",
    "\n",
    "\n",
    "my_api_key = \"pdDir9sfmf4JPMKDSJzF8W7ZJ7CyqYHE\"\n",
    "\n",
    "print(\"Downloading MP dataset...\")"
   ]
  },
  {
   "cell_type": "code",
   "execution_count": 2,
   "metadata": {},
   "outputs": [],
   "source": [
    "mpids = [\n",
    "    \"mp-761076\"\n",
    "]"
   ]
  },
  {
   "cell_type": "code",
   "execution_count": 3,
   "metadata": {},
   "outputs": [
    {
     "name": "stderr",
     "output_type": "stream",
     "text": [
      "Problem loading MPContribs client: __init__() got an unexpected keyword argument 'allowed_methods'\n",
      "  0%|          | 0/1 [00:00<?, ?it/s]"
     ]
    },
    {
     "name": "stdout",
     "output_type": "stream",
     "text": [
      "[I] 1 / 1  &  mp-761076\n"
     ]
    },
    {
     "data": {
      "application/vnd.jupyter.widget-view+json": {
       "model_id": "a847d82cb2a440f4b26454c7aa0afd3f",
       "version_major": 2,
       "version_minor": 0
      },
      "text/plain": [
       "Retrieving MaterialsDoc documents:   0%|          | 0/1 [00:00<?, ?it/s]"
      ]
     },
     "metadata": {},
     "output_type": "display_data"
    },
    {
     "data": {
      "application/vnd.jupyter.widget-view+json": {
       "model_id": "44113b966eaa44d588a81a79f757fb03",
       "version_major": 2,
       "version_minor": 0
      },
      "text/plain": [
       "Retrieving TaskDoc documents:   0%|          | 0/4 [00:00<?, ?it/s]"
      ]
     },
     "metadata": {},
     "output_type": "display_data"
    },
    {
     "name": "stderr",
     "output_type": "stream",
     "text": [
      "100%|██████████| 1/1 [07:52<00:00, 472.00s/it]\n"
     ]
    }
   ],
   "source": [
    "cnt = 1\n",
    "chgcar_path = \"../data\"\n",
    "with MPRester(my_api_key) as mpr:\n",
    "    for mp_id in tqdm(mpids):\n",
    "        print(\"[I]\" ,cnt, \"/\",len(mpids), \" & \", mp_id)\n",
    "        chgcar = mpr.get_charge_density_from_material_id(mp_id)\n",
    "        chgcar.write_file(chgcar_path + \"/\" + mp_id + \".chgcar\")\n",
    "        cnt += 1"
   ]
  }
 ],
 "metadata": {
  "kernelspec": {
   "display_name": "Python 3",
   "language": "python",
   "name": "python3"
  },
  "language_info": {
   "codemirror_mode": {
    "name": "ipython",
    "version": 3
   },
   "file_extension": ".py",
   "mimetype": "text/x-python",
   "name": "python",
   "nbconvert_exporter": "python",
   "pygments_lexer": "ipython3",
   "version": "3.8.10"
  }
 },
 "nbformat": 4,
 "nbformat_minor": 2
}
