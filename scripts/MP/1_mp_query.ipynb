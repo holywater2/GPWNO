{
 "cells": [
  {
   "cell_type": "code",
   "execution_count": 1,
   "metadata": {},
   "outputs": [
    {
     "name": "stdout",
     "output_type": "stream",
     "text": [
      "Len mpids: 120775\n"
     ]
    }
   ],
   "source": [
    "from mp_api.client import MPRester\n",
    "from emmet.core.summary import HasProps\n",
    "import json\n",
    "from tqdm import tqdm\n",
    "import os\n",
    "\n",
    "\n",
    "my_api_key = \"pdDir9sfmf4JPMKDSJzF8W7ZJ7CyqYHE\"\n",
    "file_path = \"../mpids_all_donotuse.json\"\n",
    "\n",
    "with open(file_path, 'r') as file:\n",
    "    mpids = json.load(file)\n",
    "\n",
    "print(\"Len mpids:\",len(mpids))"
   ]
  },
  {
   "cell_type": "code",
   "execution_count": 2,
   "metadata": {},
   "outputs": [
    {
     "name": "stdout",
     "output_type": "stream",
     "text": [
      "Len mpids: 117535\n"
     ]
    }
   ],
   "source": [
    "from mp_api.client import MPRester\n",
    "from emmet.core.summary import HasProps\n",
    "import json\n",
    "from tqdm import tqdm\n",
    "import os\n",
    "\n",
    "\n",
    "my_api_key = \"pdDir9sfmf4JPMKDSJzF8W7ZJ7CyqYHE\"\n",
    "file_path = \"../mpids_downloaded.json\"\n",
    "\n",
    "with open(file_path, 'r') as file:\n",
    "    mpids = json.load(file)\n",
    "\n",
    "print(\"Len mpids:\",len(mpids))"
   ]
  },
  {
   "cell_type": "code",
   "execution_count": 1,
   "metadata": {},
   "outputs": [],
   "source": [
    "# https://pymatgen.org/pymatgen.io.vasp.html\n",
    "\n",
    "from pymatgen.io.vasp.outputs import Chgcar as chg\n",
    "from pymatgen.symmetry.analyzer import SpacegroupAnalyzer"
   ]
  },
  {
   "cell_type": "code",
   "execution_count": 2,
   "metadata": {},
   "outputs": [
    {
     "ename": "NameError",
     "evalue": "name 'mpr' is not defined",
     "output_type": "error",
     "traceback": [
      "\u001b[0;31m---------------------------------------------------------------------------\u001b[0m",
      "\u001b[0;31mNameError\u001b[0m                                 Traceback (most recent call last)",
      "Cell \u001b[0;32mIn[2], line 1\u001b[0m\n\u001b[0;32m----> 1\u001b[0m list_of_available_fields \u001b[38;5;241m=\u001b[39m \u001b[43mmpr\u001b[49m\u001b[38;5;241m.\u001b[39mmaterials\u001b[38;5;241m.\u001b[39msummary\u001b[38;5;241m.\u001b[39mavailable_fields\n\u001b[1;32m      2\u001b[0m list_of_available_fields\n",
      "\u001b[0;31mNameError\u001b[0m: name 'mpr' is not defined"
     ]
    }
   ],
   "source": [
    "# list_of_available_fields = mpr.materials.summary.available_fields\n",
    "# list_of_available_fields"
   ]
  },
  {
   "cell_type": "code",
   "execution_count": 12,
   "metadata": {},
   "outputs": [
    {
     "name": "stdout",
     "output_type": "stream",
     "text": [
      "Start: 0 End: 3000\n"
     ]
    },
    {
     "data": {
      "application/vnd.jupyter.widget-view+json": {
       "model_id": "11567ab543b143b394e0bd7e94d6ff51",
       "version_major": 2,
       "version_minor": 0
      },
      "text/plain": [
       "Retrieving SummaryDoc documents:   0%|          | 0/3000 [00:00<?, ?it/s]"
      ]
     },
     "metadata": {},
     "output_type": "display_data"
    },
    {
     "name": "stdout",
     "output_type": "stream",
     "text": [
      "Start: 3000 End: 6000\n"
     ]
    },
    {
     "data": {
      "application/vnd.jupyter.widget-view+json": {
       "model_id": "e1759abc54c24ad9bcea8a225c9dd23c",
       "version_major": 2,
       "version_minor": 0
      },
      "text/plain": [
       "Retrieving SummaryDoc documents:   0%|          | 0/3000 [00:00<?, ?it/s]"
      ]
     },
     "metadata": {},
     "output_type": "display_data"
    },
    {
     "name": "stdout",
     "output_type": "stream",
     "text": [
      "Start: 6000 End: 9000\n"
     ]
    },
    {
     "data": {
      "application/vnd.jupyter.widget-view+json": {
       "model_id": "c2c7525b11cc45b283de0a35c26c7c44",
       "version_major": 2,
       "version_minor": 0
      },
      "text/plain": [
       "Retrieving SummaryDoc documents:   0%|          | 0/3000 [00:00<?, ?it/s]"
      ]
     },
     "metadata": {},
     "output_type": "display_data"
    },
    {
     "name": "stdout",
     "output_type": "stream",
     "text": [
      "Start: 9000 End: 12000\n"
     ]
    },
    {
     "data": {
      "application/vnd.jupyter.widget-view+json": {
       "model_id": "7a6ac56b2dd246faa5357134b4556f50",
       "version_major": 2,
       "version_minor": 0
      },
      "text/plain": [
       "Retrieving SummaryDoc documents:   0%|          | 0/3000 [00:00<?, ?it/s]"
      ]
     },
     "metadata": {},
     "output_type": "display_data"
    },
    {
     "name": "stdout",
     "output_type": "stream",
     "text": [
      "Start: 12000 End: 15000\n"
     ]
    },
    {
     "data": {
      "application/vnd.jupyter.widget-view+json": {
       "model_id": "f87f89c59c594d0b805c2da278f727aa",
       "version_major": 2,
       "version_minor": 0
      },
      "text/plain": [
       "Retrieving SummaryDoc documents:   0%|          | 0/3000 [00:00<?, ?it/s]"
      ]
     },
     "metadata": {},
     "output_type": "display_data"
    },
    {
     "name": "stdout",
     "output_type": "stream",
     "text": [
      "Start: 15000 End: 18000\n"
     ]
    },
    {
     "data": {
      "application/vnd.jupyter.widget-view+json": {
       "model_id": "66f6076b144748e6a2ae3ab612937f14",
       "version_major": 2,
       "version_minor": 0
      },
      "text/plain": [
       "Retrieving SummaryDoc documents:   0%|          | 0/3000 [00:00<?, ?it/s]"
      ]
     },
     "metadata": {},
     "output_type": "display_data"
    },
    {
     "name": "stdout",
     "output_type": "stream",
     "text": [
      "Start: 18000 End: 21000\n"
     ]
    },
    {
     "data": {
      "application/vnd.jupyter.widget-view+json": {
       "model_id": "24a50d97c6b645c8b004bc76d7252693",
       "version_major": 2,
       "version_minor": 0
      },
      "text/plain": [
       "Retrieving SummaryDoc documents:   0%|          | 0/3000 [00:00<?, ?it/s]"
      ]
     },
     "metadata": {},
     "output_type": "display_data"
    },
    {
     "name": "stdout",
     "output_type": "stream",
     "text": [
      "Start: 21000 End: 24000\n"
     ]
    },
    {
     "data": {
      "application/vnd.jupyter.widget-view+json": {
       "model_id": "2ae06692eb54472ca85eb7c26be281ec",
       "version_major": 2,
       "version_minor": 0
      },
      "text/plain": [
       "Retrieving SummaryDoc documents:   0%|          | 0/3000 [00:00<?, ?it/s]"
      ]
     },
     "metadata": {},
     "output_type": "display_data"
    },
    {
     "name": "stdout",
     "output_type": "stream",
     "text": [
      "Start: 24000 End: 27000\n"
     ]
    },
    {
     "data": {
      "application/vnd.jupyter.widget-view+json": {
       "model_id": "e8361de499e3441388f7a3e4fb8bf5fa",
       "version_major": 2,
       "version_minor": 0
      },
      "text/plain": [
       "Retrieving SummaryDoc documents:   0%|          | 0/3000 [00:00<?, ?it/s]"
      ]
     },
     "metadata": {},
     "output_type": "display_data"
    },
    {
     "name": "stdout",
     "output_type": "stream",
     "text": [
      "Start: 27000 End: 30000\n"
     ]
    },
    {
     "data": {
      "application/vnd.jupyter.widget-view+json": {
       "model_id": "94b63cc63758428398df9f61fd0438cb",
       "version_major": 2,
       "version_minor": 0
      },
      "text/plain": [
       "Retrieving SummaryDoc documents:   0%|          | 0/3000 [00:00<?, ?it/s]"
      ]
     },
     "metadata": {},
     "output_type": "display_data"
    },
    {
     "name": "stdout",
     "output_type": "stream",
     "text": [
      "Start: 30000 End: 33000\n"
     ]
    },
    {
     "data": {
      "application/vnd.jupyter.widget-view+json": {
       "model_id": "86c61b3a095b4e57bbe9b6b474d21ff6",
       "version_major": 2,
       "version_minor": 0
      },
      "text/plain": [
       "Retrieving SummaryDoc documents:   0%|          | 0/3000 [00:00<?, ?it/s]"
      ]
     },
     "metadata": {},
     "output_type": "display_data"
    },
    {
     "name": "stdout",
     "output_type": "stream",
     "text": [
      "Start: 33000 End: 36000\n"
     ]
    },
    {
     "data": {
      "application/vnd.jupyter.widget-view+json": {
       "model_id": "28828c059f3242ac936f1db78c6d7333",
       "version_major": 2,
       "version_minor": 0
      },
      "text/plain": [
       "Retrieving SummaryDoc documents:   0%|          | 0/3000 [00:00<?, ?it/s]"
      ]
     },
     "metadata": {},
     "output_type": "display_data"
    },
    {
     "name": "stdout",
     "output_type": "stream",
     "text": [
      "Start: 36000 End: 39000\n"
     ]
    },
    {
     "data": {
      "application/vnd.jupyter.widget-view+json": {
       "model_id": "b4aee32556c94c7e96eea48459e346cf",
       "version_major": 2,
       "version_minor": 0
      },
      "text/plain": [
       "Retrieving SummaryDoc documents:   0%|          | 0/3000 [00:00<?, ?it/s]"
      ]
     },
     "metadata": {},
     "output_type": "display_data"
    },
    {
     "name": "stdout",
     "output_type": "stream",
     "text": [
      "Start: 39000 End: 42000\n"
     ]
    },
    {
     "data": {
      "application/vnd.jupyter.widget-view+json": {
       "model_id": "e1f1e9e1d1dc468284b174f048c2363d",
       "version_major": 2,
       "version_minor": 0
      },
      "text/plain": [
       "Retrieving SummaryDoc documents:   0%|          | 0/3000 [00:00<?, ?it/s]"
      ]
     },
     "metadata": {},
     "output_type": "display_data"
    },
    {
     "name": "stdout",
     "output_type": "stream",
     "text": [
      "Start: 42000 End: 45000\n"
     ]
    },
    {
     "data": {
      "application/vnd.jupyter.widget-view+json": {
       "model_id": "c9d11b2469104aa783015dc6d888f287",
       "version_major": 2,
       "version_minor": 0
      },
      "text/plain": [
       "Retrieving SummaryDoc documents:   0%|          | 0/3000 [00:00<?, ?it/s]"
      ]
     },
     "metadata": {},
     "output_type": "display_data"
    },
    {
     "name": "stdout",
     "output_type": "stream",
     "text": [
      "Start: 45000 End: 48000\n"
     ]
    },
    {
     "data": {
      "application/vnd.jupyter.widget-view+json": {
       "model_id": "eba6cd9c8d414b0b95bdda09f65d96cd",
       "version_major": 2,
       "version_minor": 0
      },
      "text/plain": [
       "Retrieving SummaryDoc documents:   0%|          | 0/3000 [00:00<?, ?it/s]"
      ]
     },
     "metadata": {},
     "output_type": "display_data"
    },
    {
     "name": "stdout",
     "output_type": "stream",
     "text": [
      "Start: 48000 End: 51000\n"
     ]
    },
    {
     "data": {
      "application/vnd.jupyter.widget-view+json": {
       "model_id": "2128f792f2b041329e1ff2a8d8e45901",
       "version_major": 2,
       "version_minor": 0
      },
      "text/plain": [
       "Retrieving SummaryDoc documents:   0%|          | 0/3000 [00:00<?, ?it/s]"
      ]
     },
     "metadata": {},
     "output_type": "display_data"
    },
    {
     "name": "stdout",
     "output_type": "stream",
     "text": [
      "Start: 51000 End: 54000\n"
     ]
    },
    {
     "data": {
      "application/vnd.jupyter.widget-view+json": {
       "model_id": "3c0496e52cfe47b5b23d2f41140f52ef",
       "version_major": 2,
       "version_minor": 0
      },
      "text/plain": [
       "Retrieving SummaryDoc documents:   0%|          | 0/3000 [00:00<?, ?it/s]"
      ]
     },
     "metadata": {},
     "output_type": "display_data"
    },
    {
     "name": "stdout",
     "output_type": "stream",
     "text": [
      "Start: 54000 End: 57000\n"
     ]
    },
    {
     "data": {
      "application/vnd.jupyter.widget-view+json": {
       "model_id": "7365e03664c342be958ae9b0dd0ae538",
       "version_major": 2,
       "version_minor": 0
      },
      "text/plain": [
       "Retrieving SummaryDoc documents:   0%|          | 0/3000 [00:00<?, ?it/s]"
      ]
     },
     "metadata": {},
     "output_type": "display_data"
    },
    {
     "name": "stdout",
     "output_type": "stream",
     "text": [
      "Start: 57000 End: 60000\n"
     ]
    },
    {
     "data": {
      "application/vnd.jupyter.widget-view+json": {
       "model_id": "37df34bb5cce48e08fcb95cbc016aef1",
       "version_major": 2,
       "version_minor": 0
      },
      "text/plain": [
       "Retrieving SummaryDoc documents:   0%|          | 0/3000 [00:00<?, ?it/s]"
      ]
     },
     "metadata": {},
     "output_type": "display_data"
    },
    {
     "name": "stdout",
     "output_type": "stream",
     "text": [
      "Start: 60000 End: 63000\n"
     ]
    },
    {
     "data": {
      "application/vnd.jupyter.widget-view+json": {
       "model_id": "1ee3716fed2e449581859468492ce73e",
       "version_major": 2,
       "version_minor": 0
      },
      "text/plain": [
       "Retrieving SummaryDoc documents:   0%|          | 0/3000 [00:00<?, ?it/s]"
      ]
     },
     "metadata": {},
     "output_type": "display_data"
    },
    {
     "name": "stdout",
     "output_type": "stream",
     "text": [
      "Start: 63000 End: 66000\n"
     ]
    },
    {
     "data": {
      "application/vnd.jupyter.widget-view+json": {
       "model_id": "114f01d4948c465c80ababc4d1310224",
       "version_major": 2,
       "version_minor": 0
      },
      "text/plain": [
       "Retrieving SummaryDoc documents:   0%|          | 0/3000 [00:00<?, ?it/s]"
      ]
     },
     "metadata": {},
     "output_type": "display_data"
    },
    {
     "name": "stdout",
     "output_type": "stream",
     "text": [
      "Start: 66000 End: 69000\n"
     ]
    },
    {
     "data": {
      "application/vnd.jupyter.widget-view+json": {
       "model_id": "8fb349dd87b14fa9bd2bc570f26ba4cb",
       "version_major": 2,
       "version_minor": 0
      },
      "text/plain": [
       "Retrieving SummaryDoc documents:   0%|          | 0/3000 [00:00<?, ?it/s]"
      ]
     },
     "metadata": {},
     "output_type": "display_data"
    },
    {
     "name": "stdout",
     "output_type": "stream",
     "text": [
      "Start: 69000 End: 72000\n"
     ]
    },
    {
     "data": {
      "application/vnd.jupyter.widget-view+json": {
       "model_id": "a5bb6a5503ca4285ab6947a62aeada07",
       "version_major": 2,
       "version_minor": 0
      },
      "text/plain": [
       "Retrieving SummaryDoc documents:   0%|          | 0/3000 [00:00<?, ?it/s]"
      ]
     },
     "metadata": {},
     "output_type": "display_data"
    },
    {
     "name": "stdout",
     "output_type": "stream",
     "text": [
      "Start: 72000 End: 75000\n"
     ]
    },
    {
     "data": {
      "application/vnd.jupyter.widget-view+json": {
       "model_id": "41a8662e4b5b48a69d90f5e18f6f4fde",
       "version_major": 2,
       "version_minor": 0
      },
      "text/plain": [
       "Retrieving SummaryDoc documents:   0%|          | 0/3000 [00:00<?, ?it/s]"
      ]
     },
     "metadata": {},
     "output_type": "display_data"
    },
    {
     "name": "stdout",
     "output_type": "stream",
     "text": [
      "Start: 75000 End: 78000\n"
     ]
    },
    {
     "data": {
      "application/vnd.jupyter.widget-view+json": {
       "model_id": "cb044b49c4094950a7c8b69c645e0b19",
       "version_major": 2,
       "version_minor": 0
      },
      "text/plain": [
       "Retrieving SummaryDoc documents:   0%|          | 0/3000 [00:00<?, ?it/s]"
      ]
     },
     "metadata": {},
     "output_type": "display_data"
    },
    {
     "name": "stdout",
     "output_type": "stream",
     "text": [
      "Start: 78000 End: 81000\n"
     ]
    },
    {
     "data": {
      "application/vnd.jupyter.widget-view+json": {
       "model_id": "5899925cb5ad40c7b2a476fa6437a88d",
       "version_major": 2,
       "version_minor": 0
      },
      "text/plain": [
       "Retrieving SummaryDoc documents:   0%|          | 0/3000 [00:00<?, ?it/s]"
      ]
     },
     "metadata": {},
     "output_type": "display_data"
    },
    {
     "name": "stdout",
     "output_type": "stream",
     "text": [
      "Start: 81000 End: 84000\n"
     ]
    },
    {
     "data": {
      "application/vnd.jupyter.widget-view+json": {
       "model_id": "9f3520e5637743eb9173b03260ab9d21",
       "version_major": 2,
       "version_minor": 0
      },
      "text/plain": [
       "Retrieving SummaryDoc documents:   0%|          | 0/3000 [00:00<?, ?it/s]"
      ]
     },
     "metadata": {},
     "output_type": "display_data"
    },
    {
     "name": "stdout",
     "output_type": "stream",
     "text": [
      "Start: 84000 End: 87000\n"
     ]
    },
    {
     "data": {
      "application/vnd.jupyter.widget-view+json": {
       "model_id": "3dea322708394a7ca5236b150a993eaf",
       "version_major": 2,
       "version_minor": 0
      },
      "text/plain": [
       "Retrieving SummaryDoc documents:   0%|          | 0/3000 [00:00<?, ?it/s]"
      ]
     },
     "metadata": {},
     "output_type": "display_data"
    },
    {
     "name": "stdout",
     "output_type": "stream",
     "text": [
      "Start: 87000 End: 90000\n"
     ]
    },
    {
     "data": {
      "application/vnd.jupyter.widget-view+json": {
       "model_id": "2ee88d3e08a44b0799a05b2c630ecc6e",
       "version_major": 2,
       "version_minor": 0
      },
      "text/plain": [
       "Retrieving SummaryDoc documents:   0%|          | 0/3000 [00:00<?, ?it/s]"
      ]
     },
     "metadata": {},
     "output_type": "display_data"
    },
    {
     "name": "stdout",
     "output_type": "stream",
     "text": [
      "Start: 90000 End: 93000\n"
     ]
    },
    {
     "data": {
      "application/vnd.jupyter.widget-view+json": {
       "model_id": "5c9d651ee85f4133a9423fcc6e81b9f9",
       "version_major": 2,
       "version_minor": 0
      },
      "text/plain": [
       "Retrieving SummaryDoc documents:   0%|          | 0/3000 [00:00<?, ?it/s]"
      ]
     },
     "metadata": {},
     "output_type": "display_data"
    },
    {
     "name": "stdout",
     "output_type": "stream",
     "text": [
      "Start: 93000 End: 96000\n"
     ]
    },
    {
     "data": {
      "application/vnd.jupyter.widget-view+json": {
       "model_id": "a021a3e059c34bcca5ff2f09a509c825",
       "version_major": 2,
       "version_minor": 0
      },
      "text/plain": [
       "Retrieving SummaryDoc documents:   0%|          | 0/3000 [00:00<?, ?it/s]"
      ]
     },
     "metadata": {},
     "output_type": "display_data"
    },
    {
     "name": "stdout",
     "output_type": "stream",
     "text": [
      "Start: 96000 End: 99000\n"
     ]
    },
    {
     "data": {
      "application/vnd.jupyter.widget-view+json": {
       "model_id": "7dcc71d939c04e4db006012b369a5c9b",
       "version_major": 2,
       "version_minor": 0
      },
      "text/plain": [
       "Retrieving SummaryDoc documents:   0%|          | 0/3000 [00:00<?, ?it/s]"
      ]
     },
     "metadata": {},
     "output_type": "display_data"
    },
    {
     "name": "stdout",
     "output_type": "stream",
     "text": [
      "Start: 99000 End: 102000\n"
     ]
    },
    {
     "data": {
      "application/vnd.jupyter.widget-view+json": {
       "model_id": "cf83f096da584cf9a0912ba3fe85e103",
       "version_major": 2,
       "version_minor": 0
      },
      "text/plain": [
       "Retrieving SummaryDoc documents:   0%|          | 0/3000 [00:00<?, ?it/s]"
      ]
     },
     "metadata": {},
     "output_type": "display_data"
    },
    {
     "name": "stdout",
     "output_type": "stream",
     "text": [
      "Start: 102000 End: 105000\n"
     ]
    },
    {
     "data": {
      "application/vnd.jupyter.widget-view+json": {
       "model_id": "f33eb82b945a49d486c1a0f4575c6dc6",
       "version_major": 2,
       "version_minor": 0
      },
      "text/plain": [
       "Retrieving SummaryDoc documents:   0%|          | 0/3000 [00:00<?, ?it/s]"
      ]
     },
     "metadata": {},
     "output_type": "display_data"
    },
    {
     "name": "stdout",
     "output_type": "stream",
     "text": [
      "Start: 105000 End: 108000\n"
     ]
    },
    {
     "data": {
      "application/vnd.jupyter.widget-view+json": {
       "model_id": "114750455ae547e090648bef7aafdd7a",
       "version_major": 2,
       "version_minor": 0
      },
      "text/plain": [
       "Retrieving SummaryDoc documents:   0%|          | 0/3000 [00:00<?, ?it/s]"
      ]
     },
     "metadata": {},
     "output_type": "display_data"
    },
    {
     "name": "stdout",
     "output_type": "stream",
     "text": [
      "Start: 108000 End: 111000\n"
     ]
    },
    {
     "data": {
      "application/vnd.jupyter.widget-view+json": {
       "model_id": "fe988d4887f8428daedce5265f7b2350",
       "version_major": 2,
       "version_minor": 0
      },
      "text/plain": [
       "Retrieving SummaryDoc documents:   0%|          | 0/3000 [00:00<?, ?it/s]"
      ]
     },
     "metadata": {},
     "output_type": "display_data"
    },
    {
     "name": "stdout",
     "output_type": "stream",
     "text": [
      "Start: 111000 End: 114000\n"
     ]
    },
    {
     "data": {
      "application/vnd.jupyter.widget-view+json": {
       "model_id": "fd5824dd25ec49319617728fa266df3a",
       "version_major": 2,
       "version_minor": 0
      },
      "text/plain": [
       "Retrieving SummaryDoc documents:   0%|          | 0/3000 [00:00<?, ?it/s]"
      ]
     },
     "metadata": {},
     "output_type": "display_data"
    },
    {
     "name": "stdout",
     "output_type": "stream",
     "text": [
      "Start: 114000 End: 117000\n"
     ]
    },
    {
     "data": {
      "application/vnd.jupyter.widget-view+json": {
       "model_id": "7e2a5fc5c6d543189c326738bc0d8009",
       "version_major": 2,
       "version_minor": 0
      },
      "text/plain": [
       "Retrieving SummaryDoc documents:   0%|          | 0/3000 [00:00<?, ?it/s]"
      ]
     },
     "metadata": {},
     "output_type": "display_data"
    },
    {
     "name": "stdout",
     "output_type": "stream",
     "text": [
      "Start: 117000 End: 117535\n"
     ]
    },
    {
     "data": {
      "application/vnd.jupyter.widget-view+json": {
       "model_id": "2a047cc3c0414c31baf035f6233722e4",
       "version_major": 2,
       "version_minor": 0
      },
      "text/plain": [
       "Retrieving SummaryDoc documents:   0%|          | 0/535 [00:00<?, ?it/s]"
      ]
     },
     "metadata": {},
     "output_type": "display_data"
    }
   ],
   "source": [
    "docs_list = []\n",
    "step = 3000\n",
    "start = 0\n",
    "end = step\n",
    "while(True):\n",
    "    if end > len(mpids):\n",
    "        end = len(mpids)\n",
    "    print(\"Start:\",start,\"End:\",end)\n",
    "    with MPRester(my_api_key) as mpr:\n",
    "        docs = mpr.materials.summary.search(material_ids=mpids[start:end], fields=[\"material_id\",\"symmetry\"])\n",
    "        # structure = docs[0].structure\n",
    "        # -- Shortcut for a single Materials Project ID:\n",
    "        docs_list.extend(docs)\n",
    "    if end == len(mpids):\n",
    "        break\n",
    "    start += step\n",
    "    end += step\n"
   ]
  },
  {
   "cell_type": "code",
   "execution_count": 13,
   "metadata": {},
   "outputs": [
    {
     "data": {
      "text/plain": [
       "\u001b[4m\u001b[1mMPDataDoc<SummaryDoc>\u001b[0;0m\u001b[0;0m(\n",
       "\u001b[1msymmetry\u001b[0;0m=SymmetryData(crystal_system=<CrystalSystem.hex_: 'Hexagonal'>, symbol='P6_3/mmc', number=194, point_group='6/mmm', symprec=0.1, version='2.0.2'),\n",
       "\u001b[1mmaterial_id\u001b[0;0m=MPID(mp-1184529),\n",
       "\u001b[1mfields_not_requested\u001b[0;0m=['builder_meta', 'nsites', 'elements', 'nelements', 'composition', 'composition_reduced', 'formula_pretty', 'formula_anonymous', 'chemsys', 'volume', 'density', 'density_atomic', 'property_name', 'deprecated', 'deprecation_reasons', 'last_updated', 'origins', 'warnings', 'structure', 'task_ids', 'uncorrected_energy_per_atom', 'energy_per_atom', 'formation_energy_per_atom', 'energy_above_hull', 'is_stable', 'equilibrium_reaction_energy_per_atom', 'decomposes_to', 'xas', 'grain_boundaries', 'band_gap', 'cbm', 'vbm', 'efermi', 'is_gap_direct', 'is_metal', 'es_source_calc_id', 'bandstructure', 'dos', 'dos_energy_up', 'dos_energy_down', 'is_magnetic', 'ordering', 'total_magnetization', 'total_magnetization_normalized_vol', 'total_magnetization_normalized_formula_units', 'num_magnetic_sites', 'num_unique_magnetic_sites', 'types_of_magnetic_species', 'bulk_modulus', 'shear_modulus', 'universal_anisotropy', 'homogeneous_poisson', 'e_total', 'e_ionic', 'e_electronic', 'n', 'e_ij_max', 'weighted_surface_energy_EV_PER_ANG2', 'weighted_surface_energy', 'weighted_work_function', 'surface_anisotropy', 'shape_factor', 'has_reconstructed', 'possible_species', 'has_props', 'theoretical', 'database_IDs']\n",
       ")"
      ]
     },
     "execution_count": 13,
     "metadata": {},
     "output_type": "execute_result"
    }
   ],
   "source": [
    "docs_list[0]"
   ]
  },
  {
   "cell_type": "code",
   "execution_count": 17,
   "metadata": {},
   "outputs": [
    {
     "data": {
      "text/plain": [
       "['__abstractmethods__',\n",
       " '__annotations__',\n",
       " '__class__',\n",
       " '__class_getitem__',\n",
       " '__class_vars__',\n",
       " '__copy__',\n",
       " '__deepcopy__',\n",
       " '__delattr__',\n",
       " '__dict__',\n",
       " '__dir__',\n",
       " '__doc__',\n",
       " '__eq__',\n",
       " '__fields__',\n",
       " '__fields_set__',\n",
       " '__format__',\n",
       " '__ge__',\n",
       " '__get_pydantic_core_schema__',\n",
       " '__get_pydantic_json_schema__',\n",
       " '__getattr__',\n",
       " '__getattribute__',\n",
       " '__getstate__',\n",
       " '__gt__',\n",
       " '__hash__',\n",
       " '__init__',\n",
       " '__init_subclass__',\n",
       " '__iter__',\n",
       " '__le__',\n",
       " '__lt__',\n",
       " '__module__',\n",
       " '__ne__',\n",
       " '__new__',\n",
       " '__pretty__',\n",
       " '__private_attributes__',\n",
       " '__pydantic_complete__',\n",
       " '__pydantic_core_schema__',\n",
       " '__pydantic_custom_init__',\n",
       " '__pydantic_decorators__',\n",
       " '__pydantic_extra__',\n",
       " '__pydantic_fields_set__',\n",
       " '__pydantic_generic_metadata__',\n",
       " '__pydantic_init_subclass__',\n",
       " '__pydantic_parent_namespace__',\n",
       " '__pydantic_post_init__',\n",
       " '__pydantic_private__',\n",
       " '__pydantic_root_model__',\n",
       " '__pydantic_serializer__',\n",
       " '__pydantic_validator__',\n",
       " '__reduce__',\n",
       " '__reduce_ex__',\n",
       " '__repr__',\n",
       " '__repr_args__',\n",
       " '__repr_name__',\n",
       " '__repr_str__',\n",
       " '__rich_repr__',\n",
       " '__setattr__',\n",
       " '__setstate__',\n",
       " '__signature__',\n",
       " '__sizeof__',\n",
       " '__slots__',\n",
       " '__str__',\n",
       " '__subclasshook__',\n",
       " '__weakref__',\n",
       " '_abc_impl',\n",
       " '_calculate_keys',\n",
       " '_check_frozen',\n",
       " '_copy_and_set_values',\n",
       " '_get_value',\n",
       " '_iter',\n",
       " 'band_gap',\n",
       " 'bandstructure',\n",
       " 'builder_meta',\n",
       " 'bulk_modulus',\n",
       " 'cbm',\n",
       " 'chemsys',\n",
       " 'composition',\n",
       " 'composition_reduced',\n",
       " 'construct',\n",
       " 'copy',\n",
       " 'database_IDs',\n",
       " 'decomposes_to',\n",
       " 'density',\n",
       " 'density_atomic',\n",
       " 'deprecated',\n",
       " 'deprecation_reasons',\n",
       " 'dict',\n",
       " 'dos',\n",
       " 'dos_energy_down',\n",
       " 'dos_energy_up',\n",
       " 'e_electronic',\n",
       " 'e_ij_max',\n",
       " 'e_ionic',\n",
       " 'e_total',\n",
       " 'efermi',\n",
       " 'elements',\n",
       " 'energy_above_hull',\n",
       " 'energy_per_atom',\n",
       " 'equilibrium_reaction_energy_per_atom',\n",
       " 'es_source_calc_id',\n",
       " 'fields_not_requested',\n",
       " 'formation_energy_per_atom',\n",
       " 'formula_anonymous',\n",
       " 'formula_pretty',\n",
       " 'from_composition',\n",
       " 'from_docs',\n",
       " 'from_orm',\n",
       " 'from_structure',\n",
       " 'grain_boundaries',\n",
       " 'has_props',\n",
       " 'has_reconstructed',\n",
       " 'homogeneous_poisson',\n",
       " 'is_gap_direct',\n",
       " 'is_magnetic',\n",
       " 'is_metal',\n",
       " 'is_stable',\n",
       " 'json',\n",
       " 'last_updated',\n",
       " 'material_id',\n",
       " 'model_computed_fields',\n",
       " 'model_config',\n",
       " 'model_construct',\n",
       " 'model_copy',\n",
       " 'model_dump',\n",
       " 'model_dump_json',\n",
       " 'model_extra',\n",
       " 'model_fields',\n",
       " 'model_fields_set',\n",
       " 'model_json_schema',\n",
       " 'model_parametrized_name',\n",
       " 'model_post_init',\n",
       " 'model_rebuild',\n",
       " 'model_validate',\n",
       " 'model_validate_json',\n",
       " 'model_validate_strings',\n",
       " 'n',\n",
       " 'nelements',\n",
       " 'nsites',\n",
       " 'num_magnetic_sites',\n",
       " 'num_unique_magnetic_sites',\n",
       " 'ordering',\n",
       " 'origins',\n",
       " 'parse_file',\n",
       " 'parse_obj',\n",
       " 'parse_raw',\n",
       " 'possible_species',\n",
       " 'property_name',\n",
       " 'schema',\n",
       " 'schema_json',\n",
       " 'shape_factor',\n",
       " 'shear_modulus',\n",
       " 'structure',\n",
       " 'surface_anisotropy',\n",
       " 'symmetry',\n",
       " 'task_ids',\n",
       " 'theoretical',\n",
       " 'total_magnetization',\n",
       " 'total_magnetization_normalized_formula_units',\n",
       " 'total_magnetization_normalized_vol',\n",
       " 'types_of_magnetic_species',\n",
       " 'uncorrected_energy_per_atom',\n",
       " 'universal_anisotropy',\n",
       " 'update_forward_refs',\n",
       " 'validate',\n",
       " 'vbm',\n",
       " 'volume',\n",
       " 'warnings',\n",
       " 'weighted_surface_energy',\n",
       " 'weighted_surface_energy_EV_PER_ANG2',\n",
       " 'weighted_work_function',\n",
       " 'xas']"
      ]
     },
     "execution_count": 17,
     "metadata": {},
     "output_type": "execute_result"
    }
   ],
   "source": [
    "dir(docs_list[0])"
   ]
  },
  {
   "cell_type": "code",
   "execution_count": 21,
   "metadata": {},
   "outputs": [
    {
     "data": {
      "text/plain": [
       "'hexagonal'"
      ]
     },
     "execution_count": 21,
     "metadata": {},
     "output_type": "execute_result"
    }
   ],
   "source": [
    "docs_list[0].symmetry.crystal_system.value.lower()"
   ]
  },
  {
   "cell_type": "code",
   "execution_count": 28,
   "metadata": {},
   "outputs": [
    {
     "data": {
      "text/plain": [
       "'mp-1184529'"
      ]
     },
     "execution_count": 28,
     "metadata": {},
     "output_type": "execute_result"
    }
   ],
   "source": [
    "docs_list[0].material_id.string"
   ]
  },
  {
   "cell_type": "code",
   "execution_count": 3,
   "metadata": {},
   "outputs": [],
   "source": [
    "def spacegroup_to_lattice_type(spacegroup):\n",
    "    if spacegroup in range(1,3):\n",
    "        return \"triclinic\" \n",
    "    elif spacegroup in range(3,16):\n",
    "        return \"monoclinic\"\n",
    "    elif spacegroup in range(16,75):\n",
    "        return \"orthorhombic\"\n",
    "    elif spacegroup in range(75,143):\n",
    "        return \"tetragonal\"\n",
    "    elif spacegroup in range(143,168):\n",
    "        return \"trigonal\"\n",
    "    elif spacegroup in range(168,195):\n",
    "        return \"hexagonal\"\n",
    "    elif spacegroup in range(195,231):\n",
    "        return \"cubic\"\n",
    "    else:\n",
    "        return \"unknown\""
   ]
  },
  {
   "cell_type": "code",
   "execution_count": 32,
   "metadata": {},
   "outputs": [],
   "source": [
    "mpids_to_lattice_type = {}\n",
    "lattice_type_dict = {\n",
    "    \"triclinic\":[],\n",
    "    \"monoclinic\":[],\n",
    "    \"orthorhombic\":[],\n",
    "    \"tetragonal\":[],\n",
    "    \"trigonal\":[],\n",
    "    \"hexagonal\":[],\n",
    "    \"cubic\":[],\n",
    "    \"unknown\":[]\n",
    "}\n",
    "# for i in range(len(mpids)):\n",
    "#     mpids_to_lattice_type[mpids[i]] = spacegroup_to_lattice_type(docs_list[i].symmetry.number)\n",
    "#     lattice_type_dict[spacegroup_to_lattice_type(docs_list[i].symmetry.number)].append(mpids[i])\n",
    "\n",
    "for i in range(len(mpids)):\n",
    "    mpids_to_lattice_type[docs_list[i].material_id.string] = docs_list[i].symmetry.crystal_system.value.lower()\n",
    "    lattice_type_dict[docs_list[i].symmetry.crystal_system.value.lower()].append(docs_list[i].material_id.string)\n",
    "\n",
    "with open(\"mpids_to_lattice_type.json\", 'w') as file:\n",
    "    json.dump(mpids_to_lattice_type, file)\n",
    "with open(\"lattice_type_dict.json\", 'w') as file:\n",
    "    json.dump(lattice_type_dict, file)"
   ]
  },
  {
   "cell_type": "code",
   "execution_count": 2,
   "metadata": {},
   "outputs": [
    {
     "name": "stderr",
     "output_type": "stream",
     "text": [
      "/home/holywater2/.local/lib/python3.8/site-packages/mp_api/client/mprester.py:193: UserWarning: mpcontribs-client not installed. Install the package to query MPContribs data, or construct pourbaix diagrams: 'pip install mpcontribs-client'\n",
      "  warnings.warn(\n",
      "Retrieving MaterialsDoc documents: 100%|██████████| 1/1 [00:00<00:00, 11305.40it/s]\n",
      "Retrieving TaskDoc documents: 100%|██████████| 6/6 [00:00<00:00, 70295.60it/s]\n"
     ]
    }
   ],
   "source": [
    "# with MPRester(my_api_key) as mpr:\n",
    "#     chgcar = mpr.get_charge_density_from_material_id(\"mp-149\")"
   ]
  },
  {
   "cell_type": "code",
   "execution_count": 5,
   "metadata": {},
   "outputs": [
    {
     "name": "stderr",
     "output_type": "stream",
     "text": [
      "  0%|          | 0/117535 [00:00<?, ?it/s]\n"
     ]
    },
    {
     "ename": "NameError",
     "evalue": "name 'chg' is not defined",
     "output_type": "error",
     "traceback": [
      "\u001b[0;31m---------------------------------------------------------------------------\u001b[0m",
      "\u001b[0;31mNameError\u001b[0m                                 Traceback (most recent call last)",
      "Cell \u001b[0;32mIn[5], line 5\u001b[0m\n\u001b[1;32m      3\u001b[0m \u001b[38;5;28;01mfor\u001b[39;00m mpid \u001b[38;5;129;01min\u001b[39;00m tqdm(mpids):\n\u001b[1;32m      4\u001b[0m     file_path \u001b[38;5;241m=\u001b[39m \u001b[38;5;124m\"\u001b[39m\u001b[38;5;124m../data/\u001b[39m\u001b[38;5;124m\"\u001b[39m\u001b[38;5;241m+\u001b[39mmpid\u001b[38;5;241m+\u001b[39m\u001b[38;5;124m\"\u001b[39m\u001b[38;5;124m.chgcar\u001b[39m\u001b[38;5;124m\"\u001b[39m\n\u001b[0;32m----> 5\u001b[0m     chgcar \u001b[38;5;241m=\u001b[39m \u001b[43mchg\u001b[49m\u001b[38;5;241m.\u001b[39mfrom_file(file_path)\n\u001b[1;32m      6\u001b[0m     lattice_type \u001b[38;5;241m=\u001b[39m SpacegroupAnalyzer(chgcar\u001b[38;5;241m.\u001b[39mstructure)\u001b[38;5;241m.\u001b[39mget_lattice_type()\n\u001b[1;32m      7\u001b[0m     lattice_types_dict[mpid] \u001b[38;5;241m=\u001b[39m lattice_type\n",
      "\u001b[0;31mNameError\u001b[0m: name 'chg' is not defined"
     ]
    }
   ],
   "source": [
    "# lattice_types_dict = {}\n",
    "\n",
    "# for mpid in tqdm(mpids):\n",
    "#     file_path = \"../data/\"+mpid+\".chgcar\"\n",
    "#     chgcar = chg.from_file(file_path)\n",
    "#     lattice_type = SpacegroupAnalyzer(chgcar.structure).get_lattice_type()\n",
    "#     lattice_types_dict[mpid] = lattice_type"
   ]
  },
  {
   "cell_type": "code",
   "execution_count": 24,
   "metadata": {},
   "outputs": [],
   "source": []
  },
  {
   "cell_type": "code",
   "execution_count": 25,
   "metadata": {},
   "outputs": [
    {
     "data": {
      "text/plain": [
       "'cubic'"
      ]
     },
     "execution_count": 25,
     "metadata": {},
     "output_type": "execute_result"
    }
   ],
   "source": [
    "SpacegroupAnalyzer(chgcar.structure).get_lattice_type()"
   ]
  },
  {
   "cell_type": "code",
   "execution_count": 18,
   "metadata": {},
   "outputs": [
    {
     "data": {
      "text/plain": [
       "['DISTANCE_TOLERANCE',\n",
       " 'REDIRECT',\n",
       " '__abstractmethods__',\n",
       " '__class__',\n",
       " '__contains__',\n",
       " '__delattr__',\n",
       " '__delitem__',\n",
       " '__dict__',\n",
       " '__dir__',\n",
       " '__doc__',\n",
       " '__eq__',\n",
       " '__format__',\n",
       " '__ge__',\n",
       " '__get_pydantic_core_schema__',\n",
       " '__get_pydantic_json_schema__',\n",
       " '__get_validators__',\n",
       " '__getattribute__',\n",
       " '__getitem__',\n",
       " '__gt__',\n",
       " '__hash__',\n",
       " '__iadd__',\n",
       " '__init__',\n",
       " '__init_subclass__',\n",
       " '__iter__',\n",
       " '__le__',\n",
       " '__len__',\n",
       " '__lt__',\n",
       " '__modify_schema__',\n",
       " '__module__',\n",
       " '__mul__',\n",
       " '__ne__',\n",
       " '__new__',\n",
       " '__reduce__',\n",
       " '__reduce_ex__',\n",
       " '__repr__',\n",
       " '__reversed__',\n",
       " '__rmul__',\n",
       " '__setattr__',\n",
       " '__setitem__',\n",
       " '__sizeof__',\n",
       " '__slots__',\n",
       " '__str__',\n",
       " '__subclasshook__',\n",
       " '__weakref__',\n",
       " '_abc_impl',\n",
       " '_calculate',\n",
       " '_charge',\n",
       " '_generic_json_schema',\n",
       " '_get_neighbor_list_py',\n",
       " '_lattice',\n",
       " '_prep_calculator',\n",
       " '_relax',\n",
       " '_sites',\n",
       " '_validate_monty',\n",
       " 'add_oxidation_state_by_element',\n",
       " 'add_oxidation_state_by_guess',\n",
       " 'add_oxidation_state_by_site',\n",
       " 'add_site_property',\n",
       " 'add_spin_by_element',\n",
       " 'add_spin_by_site',\n",
       " 'append',\n",
       " 'apply_operation',\n",
       " 'apply_strain',\n",
       " 'as_dataframe',\n",
       " 'as_dict',\n",
       " 'atomic_numbers',\n",
       " 'calculate',\n",
       " 'cart_coords',\n",
       " 'charge',\n",
       " 'clear',\n",
       " 'composition',\n",
       " 'copy',\n",
       " 'count',\n",
       " 'density',\n",
       " 'distance_matrix',\n",
       " 'elements',\n",
       " 'extend',\n",
       " 'extract_cluster',\n",
       " 'formula',\n",
       " 'frac_coords',\n",
       " 'from_dict',\n",
       " 'from_file',\n",
       " 'from_magnetic_spacegroup',\n",
       " 'from_prototype',\n",
       " 'from_sites',\n",
       " 'from_spacegroup',\n",
       " 'from_str',\n",
       " 'get_all_neighbors',\n",
       " 'get_all_neighbors_old',\n",
       " 'get_all_neighbors_py',\n",
       " 'get_angle',\n",
       " 'get_dihedral',\n",
       " 'get_distance',\n",
       " 'get_miller_index_from_site_indexes',\n",
       " 'get_neighbor_list',\n",
       " 'get_neighbors',\n",
       " 'get_neighbors_in_shell',\n",
       " 'get_neighbors_old',\n",
       " 'get_orderings',\n",
       " 'get_primitive_structure',\n",
       " 'get_reduced_structure',\n",
       " 'get_sites_in_sphere',\n",
       " 'get_sorted_structure',\n",
       " 'get_space_group_info',\n",
       " 'get_symmetric_neighbor_list',\n",
       " 'group_by_types',\n",
       " 'index',\n",
       " 'indices_from_symbol',\n",
       " 'insert',\n",
       " 'interpolate',\n",
       " 'is_3d_periodic',\n",
       " 'is_ordered',\n",
       " 'is_valid',\n",
       " 'labels',\n",
       " 'lattice',\n",
       " 'make_supercell',\n",
       " 'matches',\n",
       " 'merge_sites',\n",
       " 'ntypesp',\n",
       " 'num_sites',\n",
       " 'pbc',\n",
       " 'perturb',\n",
       " 'pop',\n",
       " 'relax',\n",
       " 'remove',\n",
       " 'remove_oxidation_states',\n",
       " 'remove_site_property',\n",
       " 'remove_sites',\n",
       " 'remove_species',\n",
       " 'remove_spin',\n",
       " 'replace',\n",
       " 'replace_species',\n",
       " 'reverse',\n",
       " 'rotate_sites',\n",
       " 'scale_lattice',\n",
       " 'set_charge',\n",
       " 'site_properties',\n",
       " 'sites',\n",
       " 'sort',\n",
       " 'species',\n",
       " 'species_and_occu',\n",
       " 'substitute',\n",
       " 'symbol_set',\n",
       " 'to',\n",
       " 'to_json',\n",
       " 'translate_sites',\n",
       " 'types_of_specie',\n",
       " 'types_of_species',\n",
       " 'unsafe_hash',\n",
       " 'unset_charge',\n",
       " 'validate_monty_v1',\n",
       " 'validate_monty_v2',\n",
       " 'volume']"
      ]
     },
     "execution_count": 18,
     "metadata": {},
     "output_type": "execute_result"
    }
   ],
   "source": [
    "dir(chgcar.structure)"
   ]
  },
  {
   "cell_type": "code",
   "execution_count": 4,
   "metadata": {},
   "outputs": [
    {
     "data": {
      "text/plain": [
       "['REDIRECT',\n",
       " '__add__',\n",
       " '__class__',\n",
       " '__delattr__',\n",
       " '__dict__',\n",
       " '__dir__',\n",
       " '__doc__',\n",
       " '__eq__',\n",
       " '__format__',\n",
       " '__ge__',\n",
       " '__get_pydantic_core_schema__',\n",
       " '__get_pydantic_json_schema__',\n",
       " '__get_validators__',\n",
       " '__getattribute__',\n",
       " '__gt__',\n",
       " '__hash__',\n",
       " '__init__',\n",
       " '__init_subclass__',\n",
       " '__le__',\n",
       " '__lt__',\n",
       " '__modify_schema__',\n",
       " '__module__',\n",
       " '__ne__',\n",
       " '__new__',\n",
       " '__reduce__',\n",
       " '__reduce_ex__',\n",
       " '__repr__',\n",
       " '__setattr__',\n",
       " '__sizeof__',\n",
       " '__str__',\n",
       " '__sub__',\n",
       " '__subclasshook__',\n",
       " '__weakref__',\n",
       " '_distance_matrix',\n",
       " '_generic_json_schema',\n",
       " '_spin_data',\n",
       " '_validate_monty',\n",
       " 'as_dict',\n",
       " 'copy',\n",
       " 'data',\n",
       " 'data_aug',\n",
       " 'dim',\n",
       " 'from_cube',\n",
       " 'from_dict',\n",
       " 'from_file',\n",
       " 'from_hdf5',\n",
       " 'get_average_along_axis',\n",
       " 'get_axis_grid',\n",
       " 'get_integrated_diff',\n",
       " 'interpolator',\n",
       " 'is_soc',\n",
       " 'is_spin_polarized',\n",
       " 'linear_add',\n",
       " 'linear_slice',\n",
       " 'name',\n",
       " 'net_magnetization',\n",
       " 'ngridpts',\n",
       " 'parse_file',\n",
       " 'poscar',\n",
       " 'scale',\n",
       " 'spin_data',\n",
       " 'structure',\n",
       " 'to_cube',\n",
       " 'to_hdf5',\n",
       " 'to_json',\n",
       " 'unsafe_hash',\n",
       " 'validate_monty_v1',\n",
       " 'validate_monty_v2',\n",
       " 'value_at',\n",
       " 'write_file',\n",
       " 'xpoints',\n",
       " 'ypoints',\n",
       " 'zpoints']"
      ]
     },
     "execution_count": 4,
     "metadata": {},
     "output_type": "execute_result"
    }
   ],
   "source": [
    "dir(chgcar)"
   ]
  }
 ],
 "metadata": {
  "kernelspec": {
   "display_name": "Python 3",
   "language": "python",
   "name": "python3"
  },
  "language_info": {
   "codemirror_mode": {
    "name": "ipython",
    "version": 3
   },
   "file_extension": ".py",
   "mimetype": "text/x-python",
   "name": "python",
   "nbconvert_exporter": "python",
   "pygments_lexer": "ipython3",
   "version": "3.10.9"
  }
 },
 "nbformat": 4,
 "nbformat_minor": 2
}
