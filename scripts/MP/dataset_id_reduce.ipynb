{
 "cells": [
  {
   "cell_type": "code",
   "execution_count": 2,
   "metadata": {},
   "outputs": [
    {
     "name": "stdout",
     "output_type": "stream",
     "text": [
      "120775\n"
     ]
    }
   ],
   "source": [
    "import json\n",
    "import os\n",
    "\n",
    "# Specify the file path\n",
    "file_path = '../mpids_all.json'\n",
    "\n",
    "# Open the JSON file\n",
    "with open(file_path, 'r') as file:\n",
    "    data = json.load(file)\n",
    "\n",
    "# Print the data\n",
    "print(len(data))\n"
   ]
  },
  {
   "cell_type": "code",
   "execution_count": 3,
   "metadata": {},
   "outputs": [
    {
     "name": "stdout",
     "output_type": "stream",
     "text": [
      "117535\n"
     ]
    }
   ],
   "source": [
    "path_dir = \"../data\"\n",
    "\n",
    "saved_files = os.listdir(path_dir)\n",
    "saved_files_wo_ext = []\n",
    "for i in saved_files:\n",
    "    saved_files_wo_ext.append(i.split(\".\")[0])\n",
    "\n",
    "print(len(saved_files_wo_ext))"
   ]
  },
  {
   "cell_type": "code",
   "execution_count": 4,
   "metadata": {},
   "outputs": [],
   "source": [
    "# # save the downloade mpids list as json\n",
    "# with open('../mpids_downloaded.json', 'w') as f:\n",
    "#     json.dump(saved_files_wo_ext, f)"
   ]
  },
  {
   "cell_type": "code",
   "execution_count": 12,
   "metadata": {},
   "outputs": [],
   "source": [
    "new_data = [mpid for mpid in data if mpid not in saved_files_wo_ext]\n",
    "# NoSuchKey errors\n",
    "\n",
    "save_path = \"./new_data_res.json\"\n",
    "\n",
    "new_data = list(set(new_data))\n",
    "\n",
    "print(len(new_data))\n",
    "\n",
    "with open(save_path, 'w') as file:\n",
    "    json.dump(new_data, file)"
   ]
  }
 ],
 "metadata": {
  "kernelspec": {
   "display_name": "Python 3",
   "language": "python",
   "name": "python3"
  },
  "language_info": {
   "codemirror_mode": {
    "name": "ipython",
    "version": 3
   },
   "file_extension": ".py",
   "mimetype": "text/x-python",
   "name": "python",
   "nbconvert_exporter": "python",
   "pygments_lexer": "ipython3",
   "version": "3.8.10"
  }
 },
 "nbformat": 4,
 "nbformat_minor": 2
}
